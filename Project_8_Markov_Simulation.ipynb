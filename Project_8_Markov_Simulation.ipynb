{
 "cells": [
  {
   "cell_type": "code",
   "execution_count": 2,
   "metadata": {},
   "outputs": [],
   "source": [
    "import pandas as pd"
   ]
  },
  {
   "cell_type": "code",
   "execution_count": 3,
   "metadata": {},
   "outputs": [],
   "source": [
    "mon = pd.read_csv('../Project-Markov-Simulation/monday.csv', index_col=0, parse_dates= True, sep=';')\n",
    "tue = pd.read_csv('../Project-Markov-Simulation/tuesday.csv', index_col=0, parse_dates= True, sep=';')\n",
    "wed = pd.read_csv('../Project-Markov-Simulation/wednesday.csv', index_col=0, parse_dates= True, sep=';')\n",
    "thu = pd.read_csv('../Project-Markov-Simulation/thursday.csv', index_col=0, parse_dates= True, sep=';')\n",
    "fri = pd.read_csv('../Project-Markov-Simulation/friday.csv', index_col=0, parse_dates= True, sep=';')"
   ]
  },
  {
   "cell_type": "markdown",
   "metadata": {},
   "source": [
    "## DATA EXPLORATION\n",
    "\n",
    "Our sales department is interested in a summary of the collected data. Please generate a report including numbers and diagrams. Note that your audience are not data scientists, so take care to prepare insights that are as clear as possible. We are interested in the following:\n",
    "\n",
    "Calculate the total number of customers in each section\n",
    "\n",
    "Calculate the total number of customers in each section over time\n",
    "\n",
    "Display the number of customers at checkout over time\n",
    "\n",
    "Calculate the time each customer spent in the market\n",
    "\n",
    "Calculate the total number of customers in the supermarket over time.\n",
    "\n",
    "Our business managers think that the first section customers visit follows a different pattern than the following ones. Plot the distribution of customers of their first visited section versus following sections (treat all sections visited after the first as “following”)."
   ]
  },
  {
   "cell_type": "code",
   "execution_count": null,
   "metadata": {},
   "outputs": [],
   "source": []
  },
  {
   "cell_type": "code",
   "execution_count": null,
   "metadata": {},
   "outputs": [],
   "source": []
  },
  {
   "cell_type": "code",
   "execution_count": null,
   "metadata": {},
   "outputs": [],
   "source": []
  },
  {
   "cell_type": "code",
   "execution_count": null,
   "metadata": {},
   "outputs": [],
   "source": []
  },
  {
   "cell_type": "markdown",
   "metadata": {},
   "source": [
    "##TRANSITION PROBABILITIES\n",
    "\n",
    "We would like to analyze how customers switch between sections of the supermarket. Calculate and visualize the probability of transitions from section A to B by counting all observed transitions.\n",
    "\n",
    "E.g. if a customer was in the fruit section, later in the spices section, and went back to fruit, we observe two transitions: fruit → spices and spices → fruit .\n",
    "\n",
    "The checkout is a special terminal state, from which customers cannot leave.\n",
    "\n",
    "Draw a state diagram\n",
    "\n",
    "Display the transition probability matrix\n",
    "\n",
    "Visualize the probabilities as a heat map"
   ]
  },
  {
   "cell_type": "code",
   "execution_count": null,
   "metadata": {},
   "outputs": [],
   "source": []
  },
  {
   "cell_type": "code",
   "execution_count": null,
   "metadata": {},
   "outputs": [],
   "source": []
  },
  {
   "cell_type": "code",
   "execution_count": null,
   "metadata": {},
   "outputs": [],
   "source": []
  },
  {
   "cell_type": "code",
   "execution_count": null,
   "metadata": {},
   "outputs": [],
   "source": []
  },
  {
   "cell_type": "code",
   "execution_count": null,
   "metadata": {},
   "outputs": [],
   "source": []
  },
  {
   "cell_type": "markdown",
   "metadata": {},
   "source": [
    "## Writing a Customer class"
   ]
  },
  {
   "cell_type": "markdown",
   "metadata": {},
   "source": [
    "Step 1: Create a class\n",
    "In Python, all classes start with the keyword class followed by a class name. The naming convention for classes is to use CamelCase.\n",
    "\n",
    "    class Customer:\n",
    "        \"\"\"\n",
    "        a single customer that moves through the supermarket\n",
    "        in a MCMC simulation\n",
    "        \"\"\"\n",
    "        ...\n",
    "\n",
    "It is good practice to describe what the class does in a docstring right after the class definition.\n",
    "\n",
    "The three dots are a placeholder. We will add an indented block of code later.\n",
    "\n",
    "Step 2: Instantiate the class\n",
    "To use a class, we will need to create at least one object from it. Add the following line after the class definition (unindented):\n",
    "\n",
    "    cust1 = Customer()\n",
    "    A Python class is used like a function that creates objects.\n",
    "\n",
    "Experienced programmers will probably not like that description a lot, but in Python it is technically correct.\n",
    "\n",
    "Step 3: Write a constructor\n",
    "Most classes have a constructor, a special method with the name __init__(). In the constructor we define the attributes of the class.\n",
    "\n",
    "Add the following as an indented block below the class definition (replacing the ...):\n",
    "\n",
    "    def __init__(self, name, state, budget=100):\n",
    "        self.name = name\n",
    "        self.state = state\n",
    "        self.budget = budget\n",
    "\n",
    "The attributes are created by assigning to self.\n",
    "\n",
    "The constructor is called automatically when you instantiate a class. You need to provide values for all non-default parameters except self, e.g.:\n",
    "\n",
    "    cust1 = Customer(\"Jake\", \"drinks\", 50)\n",
    "    cust2 = Customer(\"Margaret\", \"spices\")\n",
    "\n",
    "Step 4: Access attributes\n",
    "You can access (and modify) all attributes of an object via the dot syntax. Note that different objects have their own attribute values.\n",
    "\n",
    "    print(cust1.name, cust1.state)\n",
    "    print(cust2.name, cust2.budget)`\n",
    "\n",
    "Step 5: Include a __repr__() method\n",
    "The method __repr__() is called whenever an object is converted to a string (e.g. by print). You can use it to create a summary of the object. This is very useful for debugging, so __repr__() is usually one of the first methods you should implement.\n",
    "\n",
    "The method should return a string:\n",
    "\n",
    "    def __repr__(self):\n",
    "        return f'<Customer {self.name} in {self.state}>'\n",
    "\n",
    "Compare the output of print(cust1) before and after adding __repr__()\n",
    "\n",
    "Hint Never call methods starting with underscores directly. Usually something else triggers them.\n",
    "Step 6: Add a method\n",
    "Finally, add a method that changes the state attribute of the customer. Add another method in the class block:\n",
    "\n",
    "    def next_state(self):\n",
    "        '''\n",
    "        Propagates the customer to the next state.\n",
    "        Returns nothing.\n",
    "        '''\n",
    "        self.state = random.choice(['spices', 'drinks', 'fruit'])\n",
    "    and call the method with:\n",
    "\n",
    "    cust1.next_state()\n",
    "\n",
    "Note that methods work like functions in most aspects: they can have multiple parameters and a return value (this method has neither).\n",
    "\n",
    "The only difference is that a method has the self parameter that allows you to access the attributes of an object."
   ]
  },
  {
   "cell_type": "code",
   "execution_count": null,
   "metadata": {},
   "outputs": [],
   "source": []
  },
  {
   "cell_type": "code",
   "execution_count": null,
   "metadata": {},
   "outputs": [],
   "source": []
  },
  {
   "cell_type": "code",
   "execution_count": null,
   "metadata": {},
   "outputs": [],
   "source": []
  },
  {
   "cell_type": "markdown",
   "metadata": {},
   "source": [
    "## Monte-Carlo-Markov-Chain\n"
   ]
  },
  {
   "cell_type": "markdown",
   "metadata": {},
   "source": [
    "\n",
    "Modify the Customer class by adding the following:\n",
    "\n",
    "Step 1. Use a transition probability matrix\n",
    "\n",
    "Each customer needs the 5x5 matrix generated in calculate transition probabilities section. Write code to store the matrix as a new attribute in the constructor:\n",
    "\n",
    "<def __init__(self, name, state, transition_probs, budget=100):>\n",
    "    ...\n",
    "Step 2. Detect churned customers\n",
    "\n",
    "Once a customer reaches the checkout, consider them churned – they are not active anymore. Write a new method is_active() that returns a boolean:\n",
    "\n",
    "<def is_active(self):\n",
    "   \"\"\"Returns True if the customer has not reached the checkout yet.\"\"\"\n",
    "   ...>\n",
    "\n",
    "Step 3. Weighted probabilities\n",
    "\n",
    "Modify the next_state() method to use the transition probability matrix. You will need to do a weighted choice. Consider using random.choices() or np.random.choice().\n",
    "\n",
    "Step 4. Simulate\n",
    "\n",
    "Create one customer object and call next_state() several times. Print the customer after each call.\n",
    "\n",
    "Then do this in a for or while loop and format the results nicely."
   ]
  },
  {
   "cell_type": "code",
   "execution_count": null,
   "metadata": {},
   "outputs": [],
   "source": []
  },
  {
   "cell_type": "code",
   "execution_count": null,
   "metadata": {},
   "outputs": [],
   "source": []
  },
  {
   "cell_type": "markdown",
   "metadata": {},
   "source": [
    "## Simulate a population"
   ]
  },
  {
   "cell_type": "markdown",
   "metadata": {},
   "source": [
    "Write a Supermarket class that simulates the behaviour of multiple customers in a supermarket.\n",
    "\n",
    "Use this starter code for the design process.\n",
    "\n",
    "read and understand the User Story\n",
    "\n",
    "read the requirements\n",
    "\n",
    "make sure you understand the class diagram\n",
    "\n",
    "create skeleton code for the class\n",
    "\n",
    "read the pseudocode above and mark which parts of the program should do which step\n",
    "\n",
    "implement the methods one by one\n",
    "\n",
    "move the customer randomly\n",
    "\n",
    "Hints for implementation:\n",
    "\n",
    "Simulate 3 customers first\n",
    "\n",
    "Think in discrete one minute time steps\n",
    "\n",
    "Write the results of the simulations to a .csv file\n",
    "\n",
    "Plot the number of customers in each area over time\n",
    "\n",
    "Compare the average time customers spend inside the supermarket between simulated and real customers. What similarities or differences do you observe?"
   ]
  },
  {
   "cell_type": "code",
   "execution_count": null,
   "metadata": {},
   "outputs": [],
   "source": []
  },
  {
   "cell_type": "code",
   "execution_count": null,
   "metadata": {},
   "outputs": [],
   "source": []
  },
  {
   "cell_type": "code",
   "execution_count": null,
   "metadata": {},
   "outputs": [],
   "source": []
  }
 ],
 "metadata": {
  "kernelspec": {
   "display_name": "Python 3.7.6 ('base')",
   "language": "python",
   "name": "python3"
  },
  "language_info": {
   "codemirror_mode": {
    "name": "ipython",
    "version": 3
   },
   "file_extension": ".py",
   "mimetype": "text/x-python",
   "name": "python",
   "nbconvert_exporter": "python",
   "pygments_lexer": "ipython3",
   "version": "3.7.6"
  },
  "orig_nbformat": 4,
  "vscode": {
   "interpreter": {
    "hash": "05c57a26264523b30fd0b36e5bb1e6303c866ad101debe18bb89ecb199e8c6a0"
   }
  }
 },
 "nbformat": 4,
 "nbformat_minor": 2
}
